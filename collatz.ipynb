{
  "nbformat": 4,
  "nbformat_minor": 0,
  "metadata": {
    "colab": {
      "name": "collatz.ipynb",
      "provenance": [],
      "collapsed_sections": [],
      "authorship_tag": "ABX9TyPaVCw8kXe+2gk299xAZQj8",
      "include_colab_link": true
    },
    "kernelspec": {
      "name": "python3",
      "display_name": "Python 3"
    }
  },
  "cells": [
    {
      "cell_type": "markdown",
      "metadata": {
        "id": "view-in-github",
        "colab_type": "text"
      },
      "source": [
        "<a href=\"https://colab.research.google.com/github/msavransky/collatz/blob/master/collatz.ipynb\" target=\"_parent\"><img src=\"https://colab.research.google.com/assets/colab-badge.svg\" alt=\"Open In Colab\"/></a>"
      ]
    },
    {
      "cell_type": "markdown",
      "metadata": {
        "id": "w5IjeguFr0MH",
        "colab_type": "text"
      },
      "source": [
        "In this google colab page we study the Collatz sequence. \n",
        "\n",
        "Given an integer $n>1$ we construct the following sequence, given by:\n",
        "*   If $n$ is even, the next number is $n/2$\n",
        "*   If $n$ is odd, the next number is $3n+1$\n",
        "\n",
        "For example, if $n=4$ the sequence is:\n",
        "\n",
        "**$4 ; 2 ; 1 ; 4$**\n",
        "\n",
        "and the cycle continues.\n",
        "\n",
        "It is belived that for every integer, the Collatz sequences at some point arrives to $1$, and stays in the cycle $4 ; 2 ; 1 ; 4$. However, no proof of this fact has been found yet.\n",
        "\n",
        "Here we present a study of this problem that it is still open for the mathematical community. \n",
        "\n",
        "First we have defined a function named '*collatz*' that given an integer number, prints the minimal number of stpes until the collatz sequence arrives to $1$.\n",
        "\n",
        "\n"
      ]
    },
    {
      "cell_type": "code",
      "metadata": {
        "id": "90Fzk-oxoDmD",
        "colab_type": "code",
        "colab": {}
      },
      "source": [
        "\"\"\"\n",
        "Created on Mon Dec 16 12:16:33 2019\n",
        "\n",
        "@author: Martin\n",
        "\"\"\"\n",
        "\n",
        "def collatz(n):\n",
        "    y = n\n",
        "    count = 0\n",
        "    \" print('Partial count ', count, ' is ' ,int(y)) \"\n",
        "    while y!=1:\n",
        "        if y % 2 == 0 :\n",
        "            y = y / 2\n",
        "            \n",
        "            count = count + 1\n",
        "            \" print('Partial count ', count, ' is ' ,int(y))\"\n",
        "        else:\n",
        "            y = 3*y + 1\n",
        "            \n",
        "            count = count + 1\n",
        "            \" print('Partial count ', count, ' is ' ,int(y))\"\n",
        "    else:\n",
        "        return count"
      ],
      "execution_count": 45,
      "outputs": []
    },
    {
      "cell_type": "markdown",
      "metadata": {
        "id": "zrFkVU6Ev5uB",
        "colab_type": "text"
      },
      "source": [
        "Run the next cell to find out how many steps are needed in order to get the first $1$ of the Collatz sequence starting at $n=709$."
      ]
    },
    {
      "cell_type": "code",
      "metadata": {
        "id": "OGVsG9C2rH7l",
        "colab_type": "code",
        "colab": {}
      },
      "source": [
        " print( 'The minimal number of steps for the Collatz sequence starting at', 709 , 'until reaches 1 is',collatz(709))\n"
      ],
      "execution_count": null,
      "outputs": []
    },
    {
      "cell_type": "markdown",
      "metadata": {
        "id": "k8bMkpqTwPFm",
        "colab_type": "text"
      },
      "source": [
        "Here we show a nice behaivor of the value given by the function '*collatz*'. Define an input value for $t$ and watch how this values form an incredible pattern."
      ]
    },
    {
      "cell_type": "code",
      "metadata": {
        "id": "v1LeHSPfqgtc",
        "colab_type": "code",
        "colab": {}
      },
      "source": [
        "import matplotlib.pyplot as plt\n",
        "t=input()\n",
        "z=[0]*int(t)\n",
        "for m in range(int(t)+1):\n",
        "    z[m-1]=collatz(m+1)\n",
        "plt.figure(figsize=(18,8))\n",
        "plt.plot(z,'.')\n",
        "# Add title and axis names\n",
        "plt.title('Collatz Plot')\n",
        "plt.xlabel('integers')\n",
        "plt.ylabel('minimal number of steps until the collatz sequence is 1')\n",
        "plt.show()"
      ],
      "execution_count": null,
      "outputs": []
    }
  ]
}